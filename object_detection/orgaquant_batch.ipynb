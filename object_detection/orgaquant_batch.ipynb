{
 "cells": [
  {
   "cell_type": "markdown",
   "metadata": {},
   "source": [
    "# OrgaQuant - Batch Image Analysis\n",
    "Quantify the organoid distribution from for all images in a folder and subfolders. This script uses a pre-trained deep learning model to locate the organoids and then quantify diameters (major and minor) and total organoid area. All output values are in units of 'pixels' these need to be scaled to the appropriate scale and units."
   ]
  },
  {
   "cell_type": "markdown",
   "metadata": {},
   "source": [
    "## Set all variables\n",
    "* PATH_TO_CKPT:  Path to frozen detection graph you want to use. This is a pre-trained deep learning model (default is fine).\n",
    "* PATH_TO_LABELS: List of the strings that is used to add correct label for each box (default is fine).\n",
    "* FOLDER_PATH: Absolute path to the folder that contains the images and subfolder to quanitfy (this must be changed).\n",
    "* look_pix: The size of the window, a good number is less than 600 pixels but bigger than an organoid (default is fine).\n",
    "* slide_pix: To achieve redundancy and capture edge organoids, this is a sliding window (default is fine).\n",
    "\n",
    "__Note: look_pix and slide_pix determine the total number of windows for each frame and hence the total time required to analyze a full image. Good numbers for look_pix is between 300-900 pixels and for slide_pix from 0.5 to 1 * look_pix.__"
   ]
  },
  {
   "cell_type": "code",
   "execution_count": 1,
   "metadata": {},
   "outputs": [],
   "source": [
    "PATH_TO_CKPT = \"C:/Users/Timothy/Desktop/OD/object_detection/organoid_inference_graph/frozen_inference_graph.pb\"\n",
    "PATH_TO_LABELS = \"C:/Users/Timothy/Desktop/OD/object_detection/data/organoid_label_map.pbtxt\"\n",
    "FOLDER_PATH = \"C:/Users/Timothy/Desktop/OrgaQuant Paper/Example Analysis/Ana/\"\n",
    "look_pix = 600\n",
    "slide_pix = 600"
   ]
  },
  {
   "cell_type": "markdown",
   "metadata": {},
   "source": [
    "## Import libraries"
   ]
  },
  {
   "cell_type": "code",
   "execution_count": 2,
   "metadata": {},
   "outputs": [
    {
     "name": "stderr",
     "output_type": "stream",
     "text": [
      "C:\\Users\\Timothy\\Anaconda3\\lib\\site-packages\\h5py\\__init__.py:34: FutureWarning: Conversion of the second argument of issubdtype from `float` to `np.floating` is deprecated. In future, it will be treated as `np.float64 == np.dtype(float).type`.\n",
      "  from ._conv import register_converters as _register_converters\n"
     ]
    }
   ],
   "source": [
    "import sys\n",
    "import os\n",
    "import timeit\n",
    "sys.path.append(\"..\")\n",
    "import numpy as np\n",
    "import pandas as pd\n",
    "from matplotlib import pyplot as plt\n",
    "from PIL import Image\n",
    "from utils import visualization_utils as vis_util\n",
    "from organoid_utils import detect_all_organoids, get_metrics\n"
   ]
  },
  {
   "cell_type": "markdown",
   "metadata": {},
   "source": [
    "## Get bounding boxes then save detection image and results\n",
    "This takes several minutes to run. It returns organoids with a 95% confidence. Bounding boxes are drawn around the detected organoids. A png version of the image is also automatically saved in the same folder as the original image. The image is not needed for further anlysis but it is good to have it on record to confirm accurate detection."
   ]
  },
  {
   "cell_type": "code",
   "execution_count": 3,
   "metadata": {},
   "outputs": [
    {
     "name": "stdout",
     "output_type": "stream",
     "text": [
      "Currently on 1 of 1 total files in C:/Users/Timothy/Desktop/OrgaQuant Paper/Example Analysis/Ana/\n",
      "Analyzing patch 1 of 6 starting from (0,0) image coordinates...\n",
      "Analyzing patch 2 of 6 starting from (600,0) image coordinates...\n",
      "Analyzing patch 3 of 6 starting from (1200,0) image coordinates...\n",
      "Analyzing patch 4 of 6 starting from (0,600) image coordinates...\n",
      "Analyzing patch 5 of 6 starting from (600,600) image coordinates...\n",
      "Analyzing patch 6 of 6 starting from (1200,600) image coordinates...\n",
      "Took 202.50483950617283 seconds to analyze\n"
     ]
    }
   ],
   "source": [
    "for root, directories, filenames in os.walk(FOLDER_PATH):\n",
    "    for i, filename in enumerate(filenames):\n",
    "        try:\n",
    "            print(\"Currently on {} of {} total files in {}\".format(i+1, len(filenames), root))\n",
    "            start_time = timeit.default_timer()\n",
    "            \n",
    "            IMAGE_PATH = os.path.join(root,filename)\n",
    "\n",
    "            [boxes, scores, classes, category_index, padded_image_np, full_image_np] = detect_all_organoids(IMAGE_PATH,PATH_TO_CKPT, \n",
    "                                                                                                            PATH_TO_LABELS, \n",
    "                                                                                                            NUM_CLASSES = 1, \n",
    "                                                                                                            look_pix=look_pix, \n",
    "                                                                                                            slide_pix=slide_pix,\n",
    "                                                                                                            thresh=0.95)\n",
    "            vis_util.visualize_boxes_and_labels_on_image_array(\n",
    "                full_image_np,\n",
    "                np.squeeze(boxes),\n",
    "                np.squeeze(classes).astype(np.int32),\n",
    "                np.squeeze(scores),\n",
    "                category_index,\n",
    "                use_normalized_coordinates=False,\n",
    "                max_boxes_to_draw=None,\n",
    "                min_score_thresh=0.00,\n",
    "                line_thickness=3)\n",
    "\n",
    "            plt.imsave(IMAGE_PATH + '_detected.png', full_image_np)\n",
    "\n",
    "            # Get metrics\n",
    "            [x1, y1, x2, y2, org_area, d_max, d_min] = get_metrics(boxes)\n",
    "            \n",
    "            elapsed_time = timeit.default_timer() - start_time\n",
    "\n",
    "            # Save metrics\n",
    "            results = pd.DataFrame(data={'xmin': x1,\n",
    "                                         'ymin': y1,\n",
    "                                         'xmax': x2,\n",
    "                                         'ymax': y2,\n",
    "                                         'area': org_area, \n",
    "                                         'max dia': d_max, \n",
    "                                         'min dia': d_min,\n",
    "                                         'exec time': elapsed_time})\n",
    "\n",
    "            results.to_csv(IMAGE_PATH + '.csv', index=False, columns=['xmin', \n",
    "                                                                      'ymin', \n",
    "                                                                      'xmax', \n",
    "                                                                      'ymax', \n",
    "                                                                      'area', \n",
    "                                                                      'max dia', \n",
    "                                                                      'min dia',\n",
    "                                                                      'exec time'])\n",
    "            print('Took {} seconds to analyze'.format(elapsed_time))\n",
    "                              \n",
    "        except:\n",
    "            pass"
   ]
  }
 ],
 "metadata": {
  "kernelspec": {
   "display_name": "Python 3",
   "language": "python",
   "name": "python3"
  },
  "language_info": {
   "codemirror_mode": {
    "name": "ipython",
    "version": 3
   },
   "file_extension": ".py",
   "mimetype": "text/x-python",
   "name": "python",
   "nbconvert_exporter": "python",
   "pygments_lexer": "ipython3",
   "version": "3.6.5"
  }
 },
 "nbformat": 4,
 "nbformat_minor": 2
}
